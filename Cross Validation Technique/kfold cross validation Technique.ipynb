{
 "cells": [
  {
   "cell_type": "code",
   "execution_count": 37,
   "id": "7d729801",
   "metadata": {},
   "outputs": [],
   "source": [
    "import numpy as np\n",
    "from sklearn.datasets import load_digits\n",
    "from sklearn.linear_model import LogisticRegression\n",
    "from sklearn.svm import SVC\n",
    "from sklearn.ensemble import RandomForestClassifier\n",
    "from sklearn.model_selection import train_test_split,KFold\n"
   ]
  },
  {
   "cell_type": "code",
   "execution_count": 38,
   "id": "b0468854",
   "metadata": {},
   "outputs": [],
   "source": [
    "df = load_digits()"
   ]
  },
  {
   "cell_type": "code",
   "execution_count": 39,
   "id": "bd23090f",
   "metadata": {},
   "outputs": [],
   "source": [
    "x_train,x_test,y_train,y_test = train_test_split(df.data, df.target, test_size=0.2)"
   ]
  },
  {
   "cell_type": "code",
   "execution_count": 40,
   "id": "3b641d37",
   "metadata": {},
   "outputs": [
    {
     "data": {
      "text/plain": [
       "array([[ 0.,  0.,  0., ...,  9.,  0.,  0.],\n",
       "       [ 0.,  0.,  0., ...,  6.,  0.,  0.],\n",
       "       [ 0.,  0.,  9., ..., 16.,  6.,  0.],\n",
       "       ...,\n",
       "       [ 0.,  0.,  6., ...,  0.,  0.,  0.],\n",
       "       [ 0.,  0.,  6., ...,  0.,  0.,  0.],\n",
       "       [ 0.,  1., 13., ..., 14.,  3.,  0.]])"
      ]
     },
     "execution_count": 40,
     "metadata": {},
     "output_type": "execute_result"
    }
   ],
   "source": [
    "x_train"
   ]
  },
  {
   "cell_type": "code",
   "execution_count": 41,
   "id": "e32c6311",
   "metadata": {},
   "outputs": [],
   "source": [
    "\n",
    "def get_score(model,x_train,y_train,x_test,y_test):\n",
    "    model.fit(x_train,y_train)\n",
    "    return model.score(x_test,y_test)\n",
    "   \n",
    "    \n",
    "    "
   ]
  },
  {
   "cell_type": "code",
   "execution_count": 42,
   "id": "164b0913",
   "metadata": {},
   "outputs": [
    {
     "name": "stderr",
     "output_type": "stream",
     "text": [
      "/home/salmaa/.local/lib/python3.10/site-packages/sklearn/linear_model/_logistic.py:469: ConvergenceWarning: lbfgs failed to converge (status=1):\n",
      "STOP: TOTAL NO. of ITERATIONS REACHED LIMIT.\n",
      "\n",
      "Increase the number of iterations (max_iter) or scale the data as shown in:\n",
      "    https://scikit-learn.org/stable/modules/preprocessing.html\n",
      "Please also refer to the documentation for alternative solver options:\n",
      "    https://scikit-learn.org/stable/modules/linear_model.html#logistic-regression\n",
      "  n_iter_i = _check_optimize_result(\n"
     ]
    },
    {
     "data": {
      "text/plain": [
       "0.9583333333333334"
      ]
     },
     "execution_count": 42,
     "metadata": {},
     "output_type": "execute_result"
    }
   ],
   "source": [
    "get_score(LogisticRegression(),x_train,y_train,x_test,y_test)\n"
   ]
  },
  {
   "cell_type": "code",
   "execution_count": 43,
   "id": "c616e5bf",
   "metadata": {},
   "outputs": [
    {
     "data": {
      "text/plain": [
       "0.95"
      ]
     },
     "execution_count": 43,
     "metadata": {},
     "output_type": "execute_result"
    }
   ],
   "source": [
    "\n",
    "get_score(RandomForestClassifier(n_estimators=50),x_train,y_train,x_test,y_test)"
   ]
  },
  {
   "cell_type": "code",
   "execution_count": 44,
   "id": "ef697f16",
   "metadata": {},
   "outputs": [
    {
     "data": {
      "text/plain": [
       "0.9777777777777777"
      ]
     },
     "execution_count": 44,
     "metadata": {},
     "output_type": "execute_result"
    }
   ],
   "source": [
    "get_score(SVC(),x_train,y_train,x_test,y_test)"
   ]
  },
  {
   "cell_type": "code",
   "execution_count": 57,
   "id": "c9054e0b",
   "metadata": {},
   "outputs": [
    {
     "data": {
      "text/plain": [
       "array([[ 0.,  0.,  5., ...,  0.,  0.,  0.],\n",
       "       [ 0.,  0.,  0., ..., 10.,  0.,  0.],\n",
       "       [ 0.,  0.,  0., ..., 16.,  9.,  0.],\n",
       "       ...,\n",
       "       [ 0.,  0.,  1., ...,  6.,  0.,  0.],\n",
       "       [ 0.,  0.,  2., ..., 12.,  0.,  0.],\n",
       "       [ 0.,  0., 10., ..., 12.,  1.,  0.]])"
      ]
     },
     "execution_count": 57,
     "metadata": {},
     "output_type": "execute_result"
    }
   ],
   "source": [
    "df.data"
   ]
  },
  {
   "cell_type": "code",
   "execution_count": 60,
   "id": "300e8008",
   "metadata": {},
   "outputs": [
    {
     "data": {
      "text/plain": [
       "(1797, 64)"
      ]
     },
     "execution_count": 60,
     "metadata": {},
     "output_type": "execute_result"
    }
   ],
   "source": [
    "df.data.shape"
   ]
  },
  {
   "cell_type": "code",
   "execution_count": 75,
   "id": "26ec5a3b",
   "metadata": {},
   "outputs": [
    {
     "name": "stdout",
     "output_type": "stream",
     "text": [
      "(1437,)\n",
      "(1437, 64)\n",
      "(1437,)\n",
      "(1437, 64)\n",
      "(1438,)\n",
      "(1438, 64)\n",
      "(1438,)\n",
      "(1438, 64)\n",
      "(1438,)\n",
      "(1438, 64)\n"
     ]
    }
   ],
   "source": [
    "score_svm=[]\n",
    "for train_index, test_index in kf.split(df.data):\n",
    "    print(train_index.shape)\n",
    "    x_train = df.data[train_index]\n",
    "    print(x_train.shape)\n",
    "    y_train = df.target[train_index]\n",
    "    \n",
    "    x_test = df.data[test_index]\n",
    "    y_test= df.target[test_index]\n",
    "    \n",
    "    model =SVC()\n",
    "    model.fit(x_train, y_train)\n",
    "    score_svm.append(model.score(x_test,y_test))"
   ]
  },
  {
   "cell_type": "code",
   "execution_count": 69,
   "id": "aedcfdf3",
   "metadata": {},
   "outputs": [
    {
     "name": "stdout",
     "output_type": "stream",
     "text": [
      "[0.9916666666666667, 0.9861111111111112, 0.9888579387186629, 0.9832869080779945, 0.9888579387186629]\n"
     ]
    }
   ],
   "source": [
    "print(score_svm)"
   ]
  },
  {
   "cell_type": "code",
   "execution_count": 71,
   "id": "f0913dfc",
   "metadata": {},
   "outputs": [
    {
     "data": {
      "text/plain": [
       "0.9877561126586197"
      ]
     },
     "execution_count": 71,
     "metadata": {},
     "output_type": "execute_result"
    }
   ],
   "source": [
    "np.mean(score_svm)"
   ]
  },
  {
   "cell_type": "code",
   "execution_count": 73,
   "id": "c24e6c0c",
   "metadata": {},
   "outputs": [
    {
     "data": {
      "text/plain": [
       "array([2, 1, 3, 7, 6, 0, 8, 9, 0, 8, 3, 3, 6, 4, 5, 0, 3, 7, 4, 3, 1, 6,\n",
       "       5, 2, 9, 8, 9, 1, 2, 5, 8, 1, 4, 5, 8, 8, 8, 1, 7, 8, 1, 3, 6, 6,\n",
       "       2, 1, 9, 3, 6, 2, 6, 7, 8, 4, 7, 0, 8, 1, 0, 2, 6, 3, 7, 4, 1, 4,\n",
       "       1, 7, 0, 6, 7, 8, 3, 0, 8, 7, 0, 1, 3, 9, 5, 7, 0, 2, 8, 1, 3, 6,\n",
       "       1, 0, 0, 1, 6, 4, 3, 3, 9, 5, 5, 4, 2, 7, 5, 9, 2, 8, 6, 8, 8, 3,\n",
       "       3, 6, 1, 2, 7, 4, 6, 8, 4, 0, 5, 9, 4, 7, 4, 8, 7, 9, 1, 3, 4, 7,\n",
       "       2, 7, 8, 0, 3, 1, 0, 8, 3, 6, 1, 8, 1, 9, 1, 6, 7, 4, 7, 2, 8, 2,\n",
       "       5, 9, 8, 0, 2, 5, 6, 7, 2, 6, 7, 0, 6, 7, 8, 0, 5, 9, 1, 1, 8, 2,\n",
       "       3, 3, 1, 8, 7, 7, 8, 4, 3, 9, 5, 4, 2, 4, 1, 4, 7, 0, 5, 7, 5, 5,\n",
       "       5, 9, 9, 1, 6, 4, 1, 4, 3, 7, 7, 2, 9, 8, 3, 9, 1, 1, 5, 6, 1, 0,\n",
       "       2, 4, 6, 4, 9, 5, 0, 1, 7, 9, 5, 8, 9, 6, 8, 2, 5, 6, 9, 7, 1, 0,\n",
       "       0, 7, 8, 7, 9, 5, 2, 0, 7, 6, 1, 6, 6, 9, 7, 5, 8, 9, 0, 6, 8, 9,\n",
       "       5, 5, 5, 8, 4, 1, 5, 8, 0, 3, 9, 7, 2, 7, 1, 7, 3, 9, 6, 4, 8, 9,\n",
       "       0, 7, 0, 2, 3, 4, 8, 7, 5, 1, 7, 7, 6, 9, 2, 0, 7, 4, 7, 9, 1, 4,\n",
       "       2, 5, 8, 0, 3, 4, 5, 5, 0, 9, 5, 8, 4, 2, 3, 3, 6, 6, 2, 9, 1, 9,\n",
       "       4, 5, 5, 4, 2, 5, 0, 1, 6, 9, 2, 4, 8, 5, 0, 7, 7, 7, 1, 5, 6, 6,\n",
       "       4, 9, 2, 1, 7, 6, 4])"
      ]
     },
     "execution_count": 73,
     "metadata": {},
     "output_type": "execute_result"
    }
   ],
   "source": [
    "model.predict(x_test)"
   ]
  },
  {
   "cell_type": "code",
   "execution_count": null,
   "id": "c6bf9f7e",
   "metadata": {},
   "outputs": [],
   "source": []
  }
 ],
 "metadata": {
  "kernelspec": {
   "display_name": "Python 3 (ipykernel)",
   "language": "python",
   "name": "python3"
  },
  "language_info": {
   "codemirror_mode": {
    "name": "ipython",
    "version": 3
   },
   "file_extension": ".py",
   "mimetype": "text/x-python",
   "name": "python",
   "nbconvert_exporter": "python",
   "pygments_lexer": "ipython3",
   "version": "3.10.12"
  }
 },
 "nbformat": 4,
 "nbformat_minor": 5
}
