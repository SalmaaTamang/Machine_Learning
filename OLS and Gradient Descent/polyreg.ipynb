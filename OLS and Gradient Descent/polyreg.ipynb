{
 "cells": [
  {
   "cell_type": "code",
   "execution_count": 1,
   "id": "9ba8c283",
   "metadata": {},
   "outputs": [],
   "source": [
    "import numpy as np\n",
    "import matplotlib.pyplot as plt\n",
    "import matplotlib.animation as animation\n",
    "from IPython import display\n"
   ]
  },
  {
   "cell_type": "code",
   "execution_count": 2,
   "id": "4439eee6",
   "metadata": {},
   "outputs": [
    {
     "data": {
      "image/png": "[encoded data removed]",
      "text/plain": [
       "<Figure size 432x288 with 1 Axes>"
      ]
     },
     "metadata": {
      "needs_background": "light"
     },
     "output_type": "display_data"
    }
   ],
   "source": [
    "# Generate N number of points from _FROM to _TO\n",
    "_FROM, _TO, N = 1, 10, 8\n",
    "\n",
    "x = np.linspace(_FROM, _TO+1e-3, N)\n",
    "\n",
    "# Add random seed for reproducibility\n",
    "np.random.seed(42)\n",
    "\n",
    "# Get output from sin function with added noise\n",
    "y = np.sin(x) + np.random.normal(scale=1, size=x.shape[0])\n",
    "\n",
    "X = x.reshape((-1, 1))\n",
    "\n",
    "# Visualize the generated data\n",
    "plt.scatter(x, y)\n",
    "plt.xlabel('x')\n",
    "plt.ylabel('y')\n",
    "plt.title('Non-linear data')\n",
    "plt.show()\n"
   ]
  },
  {
   "cell_type": "code",
   "execution_count": 3,
   "id": "1ad94af7",
   "metadata": {},
   "outputs": [],
   "source": [
    "def visualize_model(model, title=None, tr=None):\n",
    "    _x = np.linspace(_FROM - 1e-1, _TO + 1e-2, 200)\n",
    "    _xr = _x.reshape(-1, 1)\n",
    "    if tr:\n",
    "        _xr = tr.transform(_xr)\n",
    "\n",
    "    _y = model.predict(_xr)\n",
    "\n",
    "    # print(y.shape)\n",
    "    plt.plot(_x, _y, color='green')\n",
    "    plt.scatter(x, y, color='blue')\n",
    "    plt.xlabel('x')\n",
    "    plt.ylabel('y')\n",
    "    if title:\n",
    "        plt.title(title)"
   ]
  },
  {
   "cell_type": "code",
   "execution_count": 4,
   "id": "0268af15",
   "metadata": {},
   "outputs": [
    {
     "name": "stderr",
     "output_type": "stream",
     "text": [
      "/usr/lib/python3/dist-packages/scipy/__init__.py:146: UserWarning: A NumPy version >=1.17.3 and <1.25.0 is required for this version of SciPy (detected version 1.26.4\n",
      "  warnings.warn(f\"A NumPy version >={np_minversion} and <{np_maxversion}\"\n"
     ]
    },
    {
     "data": {
      "text/plain": [
       "[]"
      ]
     },
     "execution_count": 4,
     "metadata": {},
     "output_type": "execute_result"
    },
    {
     "data": {
      "image/png": "[encoded data removed]",
      "text/plain": [
       "<Figure size 432x288 with 1 Axes>"
      ]
     },
     "metadata": {
      "needs_background": "light"
     },
     "output_type": "display_data"
    }
   ],
   "source": [
    "# Import LinearRegression from sklearn\n",
    "from sklearn.linear_model import LinearRegression\n",
    "\n",
    "linear = LinearRegression()\n",
    "linear.fit(X, y)\n",
    "\n",
    "visualize_model(linear, title='Linear model')\n",
    "\n",
    "plt.plot()\n"
   ]
  },
  {
   "cell_type": "code",
   "execution_count": 5,
   "id": "1bc67ca6",
   "metadata": {},
   "outputs": [],
   "source": [
    "# Import PolynomialFeatures from sklearn\n",
    "from sklearn.preprocessing import PolynomialFeatures\n",
    "\n",
    "# DEGREE FROM _FROM_DEGREE TO _TO_DEGREE WITH _DEGREE_STEP STEP VALUE\n",
    "_FROM_DEGREE, _TO_DEGREE, _DEGREE_STEP = 1, 8, 1\n",
    "\n",
    "# Create a range of degree of polynomial equation\n",
    "degrees = range(_FROM_DEGREE, _TO_DEGREE+1, _DEGREE_STEP)\n",
    "\n",
    "ncols = 3\n",
    "nrows = int(np.ceil(len(degrees)/ncols))\n",
    "\n",
    "# plt.figure(figsize=(12, 16))\n",
    "\n",
    "models = []\n",
    "\n",
    "for degree in degrees:\n",
    "    # Transform the feature\n",
    "    poly_feature = PolynomialFeatures(degree=degree)\n",
    "\n",
    "    X_tr = poly_feature.fit_transform(X)\n",
    "    # Using same linear regression model\n",
    "    linear_model = LinearRegression()\n",
    "\n",
    "    # Fit model wit transformed feature\n",
    "    linear_model.fit(X_tr, y)\n",
    "\n",
    "    models.append([degree, linear_model, poly_feature])"
   ]
  },
  {
   "cell_type": "code",
   "execution_count": 9,
   "id": "0f19f3dd",
   "metadata": {},
   "outputs": [],
   "source": [
    "#@title Visualization code (utils.py)\n",
    "\n",
    "import numpy as np\n",
    "import matplotlib.pyplot as plt\n",
    "import matplotlib.animation as animation\n",
    "from IPython import display\n",
    "\n",
    "\n",
    "def animate_figure(x,y,models,_FROM,_TO):\n",
    "\n",
    "  # For animation\n",
    "\n",
    "  # fig, ax = plt.subplots()\n",
    "  fig = plt.figure(figsize=(10, 8))\n",
    "  ax = fig.add_subplot(1, 1, 1)\n",
    "\n",
    "  ax.set_ylim(-0.5, 2.5)\n",
    "  # ax.set_xlim()\n",
    "  print(x.shape, y.shape)\n",
    "  ax.scatter(x, y, c='blue')\n",
    "\n",
    "  x_data = np.linspace(_FROM - 1e-1, _TO + 1e-2, 200)\n",
    "  x_in = x_data.reshape(-1, 1)\n",
    "\n",
    "  line,  = ax.plot(x_data, x_data, c='green')\n",
    "\n",
    "  line.set_xdata(x_data)\n",
    "\n",
    "  def anim_init():\n",
    "      line.set_ydata([np.nan] * len(x_data))\n",
    "      return line, \n",
    "\n",
    "  def animate_fn(a):\n",
    "      deg, model, tr = models[a]\n",
    "      x_dt = tr.transform(x_in)\n",
    "\n",
    "      _y = model.predict(x_dt)\n",
    "      line.set_ydata(_y)\n",
    "\n",
    "      ax.set_title(f'Model with degree: {deg}')\n",
    "\n",
    "      return line, \n",
    "\n",
    "  anim = animation.FuncAnimation(fig, animate_fn, frames=len(models), interval=2000, blit=True)\n",
    "\n",
    "  video = anim.to_html5_video()\n",
    "  html = display.HTML(video)\n",
    "  display.clear_output(wait=True)\n",
    "  display.display(html)\n",
    "\n",
    "  plt.close()"
   ]
  },
  {
   "cell_type": "code",
   "execution_count": 10,
   "id": "589b5d06",
   "metadata": {},
   "outputs": [
    {
     "name": "stdout",
     "output_type": "stream",
     "text": [
      "(8,) (8,)\n"
     ]
    },
    {
     "ename": "RuntimeError",
     "evalue": "Requested MovieWriter (ffmpeg) not available",
     "output_type": "error",
     "traceback": [
      "\u001b[0;31m---------------------------------------------------------------------------\u001b[0m",
      "\u001b[0;31mRuntimeError\u001b[0m                              Traceback (most recent call last)",
      "\u001b[0;32m/tmp/ipykernel_6087/4261774160.py\u001b[0m in \u001b[0;36m<module>\u001b[0;34m\u001b[0m\n\u001b[1;32m      3\u001b[0m \u001b[0;34m\u001b[0m\u001b[0m\n\u001b[1;32m      4\u001b[0m \u001b[0;31m# Call function to create animation\u001b[0m\u001b[0;34m\u001b[0m\u001b[0;34m\u001b[0m\u001b[0m\n\u001b[0;32m----> 5\u001b[0;31m \u001b[0manimate_figure\u001b[0m\u001b[0;34m(\u001b[0m\u001b[0mx\u001b[0m\u001b[0;34m,\u001b[0m\u001b[0my\u001b[0m\u001b[0;34m,\u001b[0m\u001b[0mmodels\u001b[0m\u001b[0;34m,\u001b[0m\u001b[0m_FROM\u001b[0m\u001b[0;34m,\u001b[0m\u001b[0m_TO\u001b[0m\u001b[0;34m)\u001b[0m\u001b[0;34m\u001b[0m\u001b[0;34m\u001b[0m\u001b[0m\n\u001b[0m",
      "\u001b[0;32m/tmp/ipykernel_6087/3451924667.py\u001b[0m in \u001b[0;36manimate_figure\u001b[0;34m(x, y, models, _FROM, _TO)\u001b[0m\n\u001b[1;32m     44\u001b[0m   \u001b[0manim\u001b[0m \u001b[0;34m=\u001b[0m \u001b[0manimation\u001b[0m\u001b[0;34m.\u001b[0m\u001b[0mFuncAnimation\u001b[0m\u001b[0;34m(\u001b[0m\u001b[0mfig\u001b[0m\u001b[0;34m,\u001b[0m \u001b[0manimate_fn\u001b[0m\u001b[0;34m,\u001b[0m \u001b[0mframes\u001b[0m\u001b[0;34m=\u001b[0m\u001b[0mlen\u001b[0m\u001b[0;34m(\u001b[0m\u001b[0mmodels\u001b[0m\u001b[0;34m)\u001b[0m\u001b[0;34m,\u001b[0m \u001b[0minterval\u001b[0m\u001b[0;34m=\u001b[0m\u001b[0;36m2000\u001b[0m\u001b[0;34m,\u001b[0m \u001b[0mblit\u001b[0m\u001b[0;34m=\u001b[0m\u001b[0;32mTrue\u001b[0m\u001b[0;34m)\u001b[0m\u001b[0;34m\u001b[0m\u001b[0;34m\u001b[0m\u001b[0m\n\u001b[1;32m     45\u001b[0m \u001b[0;34m\u001b[0m\u001b[0m\n\u001b[0;32m---> 46\u001b[0;31m   \u001b[0mvideo\u001b[0m \u001b[0;34m=\u001b[0m \u001b[0manim\u001b[0m\u001b[0;34m.\u001b[0m\u001b[0mto_html5_video\u001b[0m\u001b[0;34m(\u001b[0m\u001b[0;34m)\u001b[0m\u001b[0;34m\u001b[0m\u001b[0;34m\u001b[0m\u001b[0m\n\u001b[0m\u001b[1;32m     47\u001b[0m   \u001b[0mhtml\u001b[0m \u001b[0;34m=\u001b[0m \u001b[0mdisplay\u001b[0m\u001b[0;34m.\u001b[0m\u001b[0mHTML\u001b[0m\u001b[0;34m(\u001b[0m\u001b[0mvideo\u001b[0m\u001b[0;34m)\u001b[0m\u001b[0;34m\u001b[0m\u001b[0;34m\u001b[0m\u001b[0m\n\u001b[1;32m     48\u001b[0m   \u001b[0mdisplay\u001b[0m\u001b[0;34m.\u001b[0m\u001b[0mclear_output\u001b[0m\u001b[0;34m(\u001b[0m\u001b[0mwait\u001b[0m\u001b[0;34m=\u001b[0m\u001b[0;32mTrue\u001b[0m\u001b[0;34m)\u001b[0m\u001b[0;34m\u001b[0m\u001b[0;34m\u001b[0m\u001b[0m\n",
      "\u001b[0;32m/usr/lib/python3/dist-packages/matplotlib/animation.py\u001b[0m in \u001b[0;36mto_html5_video\u001b[0;34m(self, embed_limit)\u001b[0m\n\u001b[1;32m   1264\u001b[0m                 \u001b[0;31m# We create a writer manually so that we can get the\u001b[0m\u001b[0;34m\u001b[0m\u001b[0;34m\u001b[0m\u001b[0m\n\u001b[1;32m   1265\u001b[0m                 \u001b[0;31m# appropriate size for the tag\u001b[0m\u001b[0;34m\u001b[0m\u001b[0;34m\u001b[0m\u001b[0m\n\u001b[0;32m-> 1266\u001b[0;31m                 \u001b[0mWriter\u001b[0m \u001b[0;34m=\u001b[0m \u001b[0mwriters\u001b[0m\u001b[0;34m[\u001b[0m\u001b[0mmpl\u001b[0m\u001b[0;34m.\u001b[0m\u001b[0mrcParams\u001b[0m\u001b[0;34m[\u001b[0m\u001b[0;34m'animation.writer'\u001b[0m\u001b[0;34m]\u001b[0m\u001b[0;34m]\u001b[0m\u001b[0;34m\u001b[0m\u001b[0;34m\u001b[0m\u001b[0m\n\u001b[0m\u001b[1;32m   1267\u001b[0m                 writer = Writer(codec='h264',\n\u001b[1;32m   1268\u001b[0m                                 \u001b[0mbitrate\u001b[0m\u001b[0;34m=\u001b[0m\u001b[0mmpl\u001b[0m\u001b[0;34m.\u001b[0m\u001b[0mrcParams\u001b[0m\u001b[0;34m[\u001b[0m\u001b[0;34m'animation.bitrate'\u001b[0m\u001b[0;34m]\u001b[0m\u001b[0;34m,\u001b[0m\u001b[0;34m\u001b[0m\u001b[0;34m\u001b[0m\u001b[0m\n",
      "\u001b[0;32m/usr/lib/python3/dist-packages/matplotlib/animation.py\u001b[0m in \u001b[0;36m__getitem__\u001b[0;34m(self, name)\u001b[0m\n\u001b[1;32m    149\u001b[0m         \u001b[0;32mif\u001b[0m \u001b[0mself\u001b[0m\u001b[0;34m.\u001b[0m\u001b[0mis_available\u001b[0m\u001b[0;34m(\u001b[0m\u001b[0mname\u001b[0m\u001b[0;34m)\u001b[0m\u001b[0;34m:\u001b[0m\u001b[0;34m\u001b[0m\u001b[0;34m\u001b[0m\u001b[0m\n\u001b[1;32m    150\u001b[0m             \u001b[0;32mreturn\u001b[0m \u001b[0mself\u001b[0m\u001b[0;34m.\u001b[0m\u001b[0m_registered\u001b[0m\u001b[0;34m[\u001b[0m\u001b[0mname\u001b[0m\u001b[0;34m]\u001b[0m\u001b[0;34m\u001b[0m\u001b[0;34m\u001b[0m\u001b[0m\n\u001b[0;32m--> 151\u001b[0;31m         \u001b[0;32mraise\u001b[0m \u001b[0mRuntimeError\u001b[0m\u001b[0;34m(\u001b[0m\u001b[0;34mf\"Requested MovieWriter ({name}) not available\"\u001b[0m\u001b[0;34m)\u001b[0m\u001b[0;34m\u001b[0m\u001b[0;34m\u001b[0m\u001b[0m\n\u001b[0m\u001b[1;32m    152\u001b[0m \u001b[0;34m\u001b[0m\u001b[0m\n\u001b[1;32m    153\u001b[0m \u001b[0;34m\u001b[0m\u001b[0m\n",
      "\u001b[0;31mRuntimeError\u001b[0m: Requested MovieWriter (ffmpeg) not available"
     ]
    },
    {
     "data": {
      "image/png": "[encoded data removed]",
      "text/plain": [
       "<Figure size 720x576 with 1 Axes>"
      ]
     },
     "metadata": {
      "needs_background": "light"
     },
     "output_type": "display_data"
    }
   ],
   "source": [
    "# Import file containing code of animation\n",
    "# from utils import animate_figure\n",
    "\n",
    "# Call function to create animation\n",
    "animate_figure(x,y,models,_FROM,_TO)\n"
   ]
  },
  {
   "cell_type": "code",
   "execution_count": null,
   "id": "ddcb4f50",
   "metadata": {},
   "outputs": [],
   "source": []
  }
 ],
 "metadata": {
  "kernelspec": {
   "display_name": "Python 3 (ipykernel)",
   "language": "python",
   "name": "python3"
  },
  "language_info": {
   "codemirror_mode": {
    "name": "ipython",
    "version": 3
   },
   "file_extension": ".py",
   "mimetype": "text/x-python",
   "name": "python",
   "nbconvert_exporter": "python",
   "pygments_lexer": "ipython3",
   "version": "3.10.12"
  }
 },
 "nbformat": 4,
 "nbformat_minor": 5
}
